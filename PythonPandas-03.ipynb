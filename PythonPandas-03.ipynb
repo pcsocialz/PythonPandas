{
 "cells": [
  {
   "cell_type": "code",
   "execution_count": null,
   "metadata": {},
   "outputs": [],
   "source": [
    "#Pandas Videos #3\n",
    "#Reading and Writing CSV & Excels"
   ]
  },
  {
   "cell_type": "code",
   "execution_count": null,
   "metadata": {},
   "outputs": [],
   "source": [
    "import pandas as pd"
   ]
  },
  {
   "cell_type": "code",
   "execution_count": null,
   "metadata": {
    "scrolled": true
   },
   "outputs": [],
   "source": [
    "#To Read CSV files use the following command/program.\n",
    "df=pd.read_csv('/Users/purnachandra.dasari/Downloads/AIML-Labs-BLR/PythonTutorial-DS/stock_data.csv')\n",
    "df"
   ]
  },
  {
   "cell_type": "code",
   "execution_count": null,
   "metadata": {},
   "outputs": [],
   "source": [
    "#If we want to skip any rows use the following \n",
    "df=pd.read_csv('/Users/purnachandra.dasari/Downloads/AIML-Labs-BLR/PythonTutorial-DS/stock_data.csv',skiprows=1)\n",
    "#(OR)\n",
    "df=pd.read_csv('/Users/purnachandra.dasari/Downloads/AIML-Labs-BLR/PythonTutorial-DS/stock_data.csv',header=1)\n",
    "df"
   ]
  },
  {
   "cell_type": "code",
   "execution_count": null,
   "metadata": {},
   "outputs": [],
   "source": [
    "#If we want to read only certain number of rows only use the following code.\n",
    "df=pd.read_csv('/Users/purnachandra.dasari/Downloads/AIML-Labs-BLR/PythonTutorial-DS/stock_data.csv',nrows=4)\n",
    "df"
   ]
  },
  {
   "cell_type": "code",
   "execution_count": null,
   "metadata": {},
   "outputs": [],
   "source": [
    "#If we want to give any customized name to the columns use the following\n",
    "df=pd.read_csv('/Users/purnachandra.dasari/Downloads/AIML-Labs-BLR/PythonTutorial-DS/stock_data.csv',skiprows=1,header=None,names=['COMPANY','EPS','REVENUE','PRICE','MD'])\n",
    "df"
   ]
  },
  {
   "cell_type": "code",
   "execution_count": null,
   "metadata": {},
   "outputs": [],
   "source": [
    "#If we want to replace na values use the below\n",
    "df=pd.read_csv('/Users/purnachandra.dasari/Downloads/AIML-Labs-BLR/PythonTutorial-DS/stock_data.csv',skiprows=1,header=None,names=['COMPANY','EPS','REVENUE','PRICE','MD'],na_values=['Not Available','n.a.'])\n",
    "df"
   ]
  },
  {
   "cell_type": "code",
   "execution_count": null,
   "metadata": {},
   "outputs": [],
   "source": [
    "#If we want to replace na values using dictionary use the below\n",
    "df=pd.read_csv('/Users/purnachandra.dasari/Downloads/AIML-Labs-BLR/PythonTutorial-DS/stock_data.csv',skiprows=1,header=None,names=['COMPANY','EPS','REVENUE','PRICE','MD'],na_values={\n",
    "    'COMPANY':['not available','n.a.'],\n",
    "    'EPS':['not available','n.a.'],\n",
    "    'REVENUE':['not available','n.a.',-10],\n",
    "    'PRICE':['not available','n.a.','na'],\n",
    "    'MD':['not available','n.a.']\n",
    "})\n",
    "df"
   ]
  },
  {
   "cell_type": "code",
   "execution_count": null,
   "metadata": {},
   "outputs": [],
   "source": [
    "#To save/Write above DataFrame result use the following, it writes along with the index\n",
    "df.to_csv('/Users/purnachandra.dasari/Downloads/AIML-Labs-BLR/PythonTutorial-DS/new.csv')\n",
    "#To remove index while writing use the following\n",
    "df.to_csv('/Users/purnachandra.dasari/Downloads/AIML-Labs-BLR/PythonTutorial-DS/new.csv',index=False)"
   ]
  },
  {
   "cell_type": "code",
   "execution_count": null,
   "metadata": {},
   "outputs": [],
   "source": [
    "#To write specific columns in the CSV files use the following\n",
    "df.to_csv('new1.csv',columns=['COMPANY','MD'],index=False)\n",
    "df2=pd.read_csv('new1.csv')\n",
    "df2"
   ]
  },
  {
   "cell_type": "code",
   "execution_count": null,
   "metadata": {},
   "outputs": [],
   "source": [
    "#If we want to write skipping the headers use the following\n",
    "df2.to_csv('new2.csv',header=None)"
   ]
  },
  {
   "cell_type": "code",
   "execution_count": null,
   "metadata": {},
   "outputs": [],
   "source": [
    "df3=pd.read_csv('new2.csv')\n",
    "df3"
   ]
  },
  {
   "cell_type": "code",
   "execution_count": 33,
   "metadata": {},
   "outputs": [
    {
     "data": {
      "text/html": [
       "<div>\n",
       "<style scoped>\n",
       "    .dataframe tbody tr th:only-of-type {\n",
       "        vertical-align: middle;\n",
       "    }\n",
       "\n",
       "    .dataframe tbody tr th {\n",
       "        vertical-align: top;\n",
       "    }\n",
       "\n",
       "    .dataframe thead th {\n",
       "        text-align: right;\n",
       "    }\n",
       "</style>\n",
       "<table border=\"1\" class=\"dataframe\">\n",
       "  <thead>\n",
       "    <tr style=\"text-align: right;\">\n",
       "      <th></th>\n",
       "      <th>tickers</th>\n",
       "      <th>eps</th>\n",
       "      <th>revenue</th>\n",
       "      <th>price</th>\n",
       "      <th>people</th>\n",
       "    </tr>\n",
       "  </thead>\n",
       "  <tbody>\n",
       "    <tr>\n",
       "      <th>0</th>\n",
       "      <td>GOOGL</td>\n",
       "      <td>27.82</td>\n",
       "      <td>109</td>\n",
       "      <td>9833</td>\n",
       "      <td>LarryPage</td>\n",
       "    </tr>\n",
       "    <tr>\n",
       "      <th>1</th>\n",
       "      <td>YAHOO</td>\n",
       "      <td>4.62</td>\n",
       "      <td>334</td>\n",
       "      <td>7338</td>\n",
       "      <td>Sam walton</td>\n",
       "    </tr>\n",
       "    <tr>\n",
       "      <th>2</th>\n",
       "      <td>WWT</td>\n",
       "      <td>-1</td>\n",
       "      <td>225</td>\n",
       "      <td>6374</td>\n",
       "      <td>JasonSthatom</td>\n",
       "    </tr>\n",
       "    <tr>\n",
       "      <th>3</th>\n",
       "      <td>MFT</td>\n",
       "      <td>0</td>\n",
       "      <td>763</td>\n",
       "      <td>8473</td>\n",
       "      <td>BillGates</td>\n",
       "    </tr>\n",
       "    <tr>\n",
       "      <th>4</th>\n",
       "      <td>RELIANCE</td>\n",
       "      <td>not available</td>\n",
       "      <td>-10</td>\n",
       "      <td>92</td>\n",
       "      <td>Ambani</td>\n",
       "    </tr>\n",
       "    <tr>\n",
       "      <th>5</th>\n",
       "      <td>JINDAL</td>\n",
       "      <td>7.8</td>\n",
       "      <td>50</td>\n",
       "      <td>na</td>\n",
       "      <td>Ratan Tata</td>\n",
       "    </tr>\n",
       "  </tbody>\n",
       "</table>\n",
       "</div>"
      ],
      "text/plain": [
       "    tickers            eps  revenue price        people\n",
       "0     GOOGL          27.82      109  9833     LarryPage\n",
       "1     YAHOO           4.62      334  7338    Sam walton\n",
       "2       WWT             -1      225  6374  JasonSthatom\n",
       "3       MFT              0      763  8473     BillGates\n",
       "4  RELIANCE  not available      -10    92        Ambani\n",
       "5    JINDAL            7.8       50    na    Ratan Tata"
      ]
     },
     "execution_count": 33,
     "metadata": {},
     "output_type": "execute_result"
    }
   ],
   "source": [
    "#If we want to replace the NA values in excel use the converters and define functions to return the values\n",
    "def converter_people_cell(cell):\n",
    "    if cell=='n.a.':\n",
    "        return 'Sam walton'\n",
    "    return cell\n",
    "def converter_eps_cell(cell):\n",
    "    if cell==\"not available\t\":\n",
    "        return None\n",
    "    return cell\n",
    "xdf=pd.read_excel(\"/Users/purnachandra.dasari/Downloads/AIML-Labs-BLR/PythonTutorial-DS/stock_dataxl.xls\",converters={\n",
    "    'people':converter_people_cell,\n",
    "    'eps':converter_people_cell\n",
    "})\n",
    "xdf"
   ]
  },
  {
   "cell_type": "code",
   "execution_count": 38,
   "metadata": {},
   "outputs": [
    {
     "name": "stdout",
     "output_type": "stream",
     "text": [
      "PythonPandas-01.ipynb\r\n",
      "PythonPandas-02.ipynb\r\n",
      "PythonPandas-03.ipynb\r\n",
      "Untitled.ipynb\r\n",
      "WeatherData.csv\r\n",
      "WeatherData.xls\r\n",
      "\u001b[34mappliedai-appliedai_svd-02901de3aaa0\u001b[m\u001b[m/\r\n",
      "appliedai-appliedai_svd-02901de3aaa0.zip\r\n",
      "constituents_csv.csv\r\n",
      "new.csv\r\n",
      "new1.csv\r\n",
      "new2.csv\r\n",
      "newxl.xlsx\r\n",
      "stock_data.csv\r\n",
      "stock_dataxl.xls\r\n",
      "the-movies-dataset.zip\r\n"
     ]
    }
   ],
   "source": [
    "ls"
   ]
  },
  {
   "cell_type": "code",
   "execution_count": 48,
   "metadata": {},
   "outputs": [],
   "source": [
    "#Writing the Data frame results to an excel use the following command and mention the sheet name to which we want to write\n",
    "xdf.to_excel('newxl1.xlsx',sheet_name='stocks',index=False)"
   ]
  },
  {
   "cell_type": "code",
   "execution_count": 50,
   "metadata": {},
   "outputs": [],
   "source": [
    "#If we want to write in excel from the specific columns & rows use the following command\n",
    "xdf.to_excel('newxlwsrsc.xlsx',sheet_name='stocks',startrow=1,startcol=2)"
   ]
  },
  {
   "cell_type": "code",
   "execution_count": null,
   "metadata": {},
   "outputs": [],
   "source": []
  }
 ],
 "metadata": {
  "kernelspec": {
   "display_name": "Python 3",
   "language": "python",
   "name": "python3"
  },
  "language_info": {
   "codemirror_mode": {
    "name": "ipython",
    "version": 3
   },
   "file_extension": ".py",
   "mimetype": "text/x-python",
   "name": "python",
   "nbconvert_exporter": "python",
   "pygments_lexer": "ipython3",
   "version": "3.6.5"
  }
 },
 "nbformat": 4,
 "nbformat_minor": 2
}
