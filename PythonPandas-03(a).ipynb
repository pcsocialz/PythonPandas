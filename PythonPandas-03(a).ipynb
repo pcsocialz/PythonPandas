{
 "cells": [
  {
   "cell_type": "code",
   "execution_count": null,
   "metadata": {},
   "outputs": [],
   "source": [
    "import pandas as pd"
   ]
  },
  {
   "cell_type": "code",
   "execution_count": 4,
   "metadata": {},
   "outputs": [],
   "source": [
    "#Data frame1\n",
    "df_weather=pd.DataFrame({\n",
    "    'Date':['02/03/2019','04/05/2019','06/09/2019'],\n",
    "    'Temperature':['34','39','40'],\n",
    "    'WindSpeed':[43,42,57],\n",
    "    'Event':['Rainy','Cloudy','Snow']\n",
    "})"
   ]
  },
  {
   "cell_type": "code",
   "execution_count": 7,
   "metadata": {},
   "outputs": [],
   "source": [
    "#Data frame2\n",
    "df_stocks=pd.DataFrame({\n",
    "    'tickers':['Google','Facebook','Twitter','Amazon'],\n",
    "    'price':[234,435,234,287],\n",
    "    'pe':[44.3,23.3,58.3,93.3],\n",
    "    'eps':[23.23,8.33,2.55,55.23]\n",
    "})"
   ]
  },
  {
   "cell_type": "code",
   "execution_count": 8,
   "metadata": {},
   "outputs": [],
   "source": [
    "#Writing data frames into excel file using excel wrier method\n",
    "with pd.ExcelWriter('stock_weather.xlsx') as writer:\n",
    "    df_weather.to_excel(writer,sheet_name='weather')\n",
    "    df_stocks.to_excel(writer,sheet_name='stocks')"
   ]
  },
  {
   "cell_type": "code",
   "execution_count": null,
   "metadata": {},
   "outputs": [],
   "source": []
  }
 ],
 "metadata": {
  "kernelspec": {
   "display_name": "Python 3",
   "language": "python",
   "name": "python3"
  },
  "language_info": {
   "codemirror_mode": {
    "name": "ipython",
    "version": 3
   },
   "file_extension": ".py",
   "mimetype": "text/x-python",
   "name": "python",
   "nbconvert_exporter": "python",
   "pygments_lexer": "ipython3",
   "version": "3.6.5"
  }
 },
 "nbformat": 4,
 "nbformat_minor": 2
}
